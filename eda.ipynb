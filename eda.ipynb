{
 "cells": [
  {
   "cell_type": "code",
   "execution_count": 1,
   "metadata": {},
   "outputs": [],
   "source": [
    "import numpy as np\n",
    "import pandas as pd\n",
    "file_path=r\"E:\\My new World\\Ineuron\\ML Projects\\ML_Housing_project_2\\housing\\artifact\\data_ingestion\\2023-01-11-08-05-02\\ingested_data\\train\\housing.csv\""
   ]
  },
  {
   "cell_type": "code",
   "execution_count": 2,
   "metadata": {},
   "outputs": [],
   "source": [
    "df=pd.read_csv(file_path)"
   ]
  },
  {
   "cell_type": "code",
   "execution_count": 3,
   "metadata": {},
   "outputs": [
    {
     "data": {
      "text/html": [
       "<div>\n",
       "<style scoped>\n",
       "    .dataframe tbody tr th:only-of-type {\n",
       "        vertical-align: middle;\n",
       "    }\n",
       "\n",
       "    .dataframe tbody tr th {\n",
       "        vertical-align: top;\n",
       "    }\n",
       "\n",
       "    .dataframe thead th {\n",
       "        text-align: right;\n",
       "    }\n",
       "</style>\n",
       "<table border=\"1\" class=\"dataframe\">\n",
       "  <thead>\n",
       "    <tr style=\"text-align: right;\">\n",
       "      <th></th>\n",
       "      <th>longitude</th>\n",
       "      <th>latitude</th>\n",
       "      <th>housing_median_age</th>\n",
       "      <th>total_rooms</th>\n",
       "      <th>total_bedrooms</th>\n",
       "      <th>population</th>\n",
       "      <th>households</th>\n",
       "      <th>median_income</th>\n",
       "      <th>median_house_value</th>\n",
       "      <th>ocean_proximity</th>\n",
       "    </tr>\n",
       "  </thead>\n",
       "  <tbody>\n",
       "    <tr>\n",
       "      <th>0</th>\n",
       "      <td>-121.26</td>\n",
       "      <td>37.88</td>\n",
       "      <td>42.0</td>\n",
       "      <td>465.0</td>\n",
       "      <td>93.0</td>\n",
       "      <td>256.0</td>\n",
       "      <td>93.0</td>\n",
       "      <td>3.1719</td>\n",
       "      <td>158300.0</td>\n",
       "      <td>INLAND</td>\n",
       "    </tr>\n",
       "    <tr>\n",
       "      <th>1</th>\n",
       "      <td>-121.64</td>\n",
       "      <td>37.85</td>\n",
       "      <td>22.0</td>\n",
       "      <td>1999.0</td>\n",
       "      <td>415.0</td>\n",
       "      <td>967.0</td>\n",
       "      <td>320.0</td>\n",
       "      <td>4.4583</td>\n",
       "      <td>253900.0</td>\n",
       "      <td>INLAND</td>\n",
       "    </tr>\n",
       "    <tr>\n",
       "      <th>2</th>\n",
       "      <td>-118.15</td>\n",
       "      <td>33.95</td>\n",
       "      <td>35.0</td>\n",
       "      <td>2753.0</td>\n",
       "      <td>702.0</td>\n",
       "      <td>1592.0</td>\n",
       "      <td>614.0</td>\n",
       "      <td>2.7875</td>\n",
       "      <td>209000.0</td>\n",
       "      <td>&lt;1H OCEAN</td>\n",
       "    </tr>\n",
       "    <tr>\n",
       "      <th>3</th>\n",
       "      <td>-118.24</td>\n",
       "      <td>34.07</td>\n",
       "      <td>27.0</td>\n",
       "      <td>223.0</td>\n",
       "      <td>80.0</td>\n",
       "      <td>249.0</td>\n",
       "      <td>82.0</td>\n",
       "      <td>1.6136</td>\n",
       "      <td>137500.0</td>\n",
       "      <td>&lt;1H OCEAN</td>\n",
       "    </tr>\n",
       "    <tr>\n",
       "      <th>4</th>\n",
       "      <td>-121.82</td>\n",
       "      <td>38.02</td>\n",
       "      <td>46.0</td>\n",
       "      <td>176.0</td>\n",
       "      <td>43.0</td>\n",
       "      <td>101.0</td>\n",
       "      <td>40.0</td>\n",
       "      <td>2.2361</td>\n",
       "      <td>93800.0</td>\n",
       "      <td>INLAND</td>\n",
       "    </tr>\n",
       "  </tbody>\n",
       "</table>\n",
       "</div>"
      ],
      "text/plain": [
       "   longitude  latitude  housing_median_age  total_rooms  total_bedrooms  \\\n",
       "0    -121.26     37.88                42.0        465.0            93.0   \n",
       "1    -121.64     37.85                22.0       1999.0           415.0   \n",
       "2    -118.15     33.95                35.0       2753.0           702.0   \n",
       "3    -118.24     34.07                27.0        223.0            80.0   \n",
       "4    -121.82     38.02                46.0        176.0            43.0   \n",
       "\n",
       "   population  households  median_income  median_house_value ocean_proximity  \n",
       "0       256.0        93.0         3.1719            158300.0          INLAND  \n",
       "1       967.0       320.0         4.4583            253900.0          INLAND  \n",
       "2      1592.0       614.0         2.7875            209000.0       <1H OCEAN  \n",
       "3       249.0        82.0         1.6136            137500.0       <1H OCEAN  \n",
       "4       101.0        40.0         2.2361             93800.0          INLAND  "
      ]
     },
     "execution_count": 3,
     "metadata": {},
     "output_type": "execute_result"
    }
   ],
   "source": [
    "df.head()"
   ]
  },
  {
   "cell_type": "code",
   "execution_count": 4,
   "metadata": {},
   "outputs": [
    {
     "data": {
      "text/plain": [
       "(16512, 10)"
      ]
     },
     "execution_count": 4,
     "metadata": {},
     "output_type": "execute_result"
    }
   ],
   "source": [
    "df.shape"
   ]
  },
  {
   "cell_type": "code",
   "execution_count": 5,
   "metadata": {},
   "outputs": [],
   "source": [
    "x,y=df.drop(columns=[\"median_house_value\"],axis=1),df[[\"median_house_value\"]]"
   ]
  },
  {
   "cell_type": "code",
   "execution_count": 6,
   "metadata": {},
   "outputs": [
    {
     "data": {
      "text/html": [
       "<div>\n",
       "<style scoped>\n",
       "    .dataframe tbody tr th:only-of-type {\n",
       "        vertical-align: middle;\n",
       "    }\n",
       "\n",
       "    .dataframe tbody tr th {\n",
       "        vertical-align: top;\n",
       "    }\n",
       "\n",
       "    .dataframe thead th {\n",
       "        text-align: right;\n",
       "    }\n",
       "</style>\n",
       "<table border=\"1\" class=\"dataframe\">\n",
       "  <thead>\n",
       "    <tr style=\"text-align: right;\">\n",
       "      <th></th>\n",
       "      <th>longitude</th>\n",
       "      <th>latitude</th>\n",
       "      <th>housing_median_age</th>\n",
       "      <th>total_rooms</th>\n",
       "      <th>total_bedrooms</th>\n",
       "      <th>population</th>\n",
       "      <th>households</th>\n",
       "      <th>median_income</th>\n",
       "      <th>ocean_proximity</th>\n",
       "    </tr>\n",
       "  </thead>\n",
       "  <tbody>\n",
       "    <tr>\n",
       "      <th>0</th>\n",
       "      <td>-121.26</td>\n",
       "      <td>37.88</td>\n",
       "      <td>42.0</td>\n",
       "      <td>465.0</td>\n",
       "      <td>93.0</td>\n",
       "      <td>256.0</td>\n",
       "      <td>93.0</td>\n",
       "      <td>3.1719</td>\n",
       "      <td>INLAND</td>\n",
       "    </tr>\n",
       "    <tr>\n",
       "      <th>1</th>\n",
       "      <td>-121.64</td>\n",
       "      <td>37.85</td>\n",
       "      <td>22.0</td>\n",
       "      <td>1999.0</td>\n",
       "      <td>415.0</td>\n",
       "      <td>967.0</td>\n",
       "      <td>320.0</td>\n",
       "      <td>4.4583</td>\n",
       "      <td>INLAND</td>\n",
       "    </tr>\n",
       "    <tr>\n",
       "      <th>2</th>\n",
       "      <td>-118.15</td>\n",
       "      <td>33.95</td>\n",
       "      <td>35.0</td>\n",
       "      <td>2753.0</td>\n",
       "      <td>702.0</td>\n",
       "      <td>1592.0</td>\n",
       "      <td>614.0</td>\n",
       "      <td>2.7875</td>\n",
       "      <td>&lt;1H OCEAN</td>\n",
       "    </tr>\n",
       "    <tr>\n",
       "      <th>3</th>\n",
       "      <td>-118.24</td>\n",
       "      <td>34.07</td>\n",
       "      <td>27.0</td>\n",
       "      <td>223.0</td>\n",
       "      <td>80.0</td>\n",
       "      <td>249.0</td>\n",
       "      <td>82.0</td>\n",
       "      <td>1.6136</td>\n",
       "      <td>&lt;1H OCEAN</td>\n",
       "    </tr>\n",
       "    <tr>\n",
       "      <th>4</th>\n",
       "      <td>-121.82</td>\n",
       "      <td>38.02</td>\n",
       "      <td>46.0</td>\n",
       "      <td>176.0</td>\n",
       "      <td>43.0</td>\n",
       "      <td>101.0</td>\n",
       "      <td>40.0</td>\n",
       "      <td>2.2361</td>\n",
       "      <td>INLAND</td>\n",
       "    </tr>\n",
       "    <tr>\n",
       "      <th>...</th>\n",
       "      <td>...</td>\n",
       "      <td>...</td>\n",
       "      <td>...</td>\n",
       "      <td>...</td>\n",
       "      <td>...</td>\n",
       "      <td>...</td>\n",
       "      <td>...</td>\n",
       "      <td>...</td>\n",
       "      <td>...</td>\n",
       "    </tr>\n",
       "    <tr>\n",
       "      <th>16507</th>\n",
       "      <td>-120.65</td>\n",
       "      <td>38.28</td>\n",
       "      <td>21.0</td>\n",
       "      <td>3095.0</td>\n",
       "      <td>681.0</td>\n",
       "      <td>1341.0</td>\n",
       "      <td>546.0</td>\n",
       "      <td>2.1382</td>\n",
       "      <td>INLAND</td>\n",
       "    </tr>\n",
       "    <tr>\n",
       "      <th>16508</th>\n",
       "      <td>-121.45</td>\n",
       "      <td>38.53</td>\n",
       "      <td>34.0</td>\n",
       "      <td>1893.0</td>\n",
       "      <td>415.0</td>\n",
       "      <td>884.0</td>\n",
       "      <td>395.0</td>\n",
       "      <td>2.1679</td>\n",
       "      <td>INLAND</td>\n",
       "    </tr>\n",
       "    <tr>\n",
       "      <th>16509</th>\n",
       "      <td>-118.27</td>\n",
       "      <td>34.17</td>\n",
       "      <td>48.0</td>\n",
       "      <td>1560.0</td>\n",
       "      <td>280.0</td>\n",
       "      <td>825.0</td>\n",
       "      <td>269.0</td>\n",
       "      <td>5.5118</td>\n",
       "      <td>&lt;1H OCEAN</td>\n",
       "    </tr>\n",
       "    <tr>\n",
       "      <th>16510</th>\n",
       "      <td>-121.33</td>\n",
       "      <td>37.98</td>\n",
       "      <td>36.0</td>\n",
       "      <td>3113.0</td>\n",
       "      <td>576.0</td>\n",
       "      <td>1746.0</td>\n",
       "      <td>544.0</td>\n",
       "      <td>3.4625</td>\n",
       "      <td>INLAND</td>\n",
       "    </tr>\n",
       "    <tr>\n",
       "      <th>16511</th>\n",
       "      <td>-118.40</td>\n",
       "      <td>34.00</td>\n",
       "      <td>37.0</td>\n",
       "      <td>1534.0</td>\n",
       "      <td>258.0</td>\n",
       "      <td>751.0</td>\n",
       "      <td>259.0</td>\n",
       "      <td>5.4440</td>\n",
       "      <td>&lt;1H OCEAN</td>\n",
       "    </tr>\n",
       "  </tbody>\n",
       "</table>\n",
       "<p>16512 rows × 9 columns</p>\n",
       "</div>"
      ],
      "text/plain": [
       "       longitude  latitude  housing_median_age  total_rooms  total_bedrooms  \\\n",
       "0        -121.26     37.88                42.0        465.0            93.0   \n",
       "1        -121.64     37.85                22.0       1999.0           415.0   \n",
       "2        -118.15     33.95                35.0       2753.0           702.0   \n",
       "3        -118.24     34.07                27.0        223.0            80.0   \n",
       "4        -121.82     38.02                46.0        176.0            43.0   \n",
       "...          ...       ...                 ...          ...             ...   \n",
       "16507    -120.65     38.28                21.0       3095.0           681.0   \n",
       "16508    -121.45     38.53                34.0       1893.0           415.0   \n",
       "16509    -118.27     34.17                48.0       1560.0           280.0   \n",
       "16510    -121.33     37.98                36.0       3113.0           576.0   \n",
       "16511    -118.40     34.00                37.0       1534.0           258.0   \n",
       "\n",
       "       population  households  median_income ocean_proximity  \n",
       "0           256.0        93.0         3.1719          INLAND  \n",
       "1           967.0       320.0         4.4583          INLAND  \n",
       "2          1592.0       614.0         2.7875       <1H OCEAN  \n",
       "3           249.0        82.0         1.6136       <1H OCEAN  \n",
       "4           101.0        40.0         2.2361          INLAND  \n",
       "...           ...         ...            ...             ...  \n",
       "16507      1341.0       546.0         2.1382          INLAND  \n",
       "16508       884.0       395.0         2.1679          INLAND  \n",
       "16509       825.0       269.0         5.5118       <1H OCEAN  \n",
       "16510      1746.0       544.0         3.4625          INLAND  \n",
       "16511       751.0       259.0         5.4440       <1H OCEAN  \n",
       "\n",
       "[16512 rows x 9 columns]"
      ]
     },
     "execution_count": 6,
     "metadata": {},
     "output_type": "execute_result"
    }
   ],
   "source": [
    "x"
   ]
  },
  {
   "cell_type": "code",
   "execution_count": 7,
   "metadata": {},
   "outputs": [
    {
     "data": {
      "text/plain": [
       "(16512, 9)"
      ]
     },
     "execution_count": 7,
     "metadata": {},
     "output_type": "execute_result"
    }
   ],
   "source": [
    "x.shape"
   ]
  },
  {
   "cell_type": "code",
   "execution_count": 8,
   "metadata": {},
   "outputs": [
    {
     "data": {
      "text/plain": [
       "(16512, 1)"
      ]
     },
     "execution_count": 8,
     "metadata": {},
     "output_type": "execute_result"
    }
   ],
   "source": [
    "y.shape"
   ]
  },
  {
   "cell_type": "code",
   "execution_count": 9,
   "metadata": {},
   "outputs": [
    {
     "data": {
      "text/plain": [
       "longitude               0\n",
       "latitude                0\n",
       "housing_median_age      0\n",
       "total_rooms             0\n",
       "total_bedrooms        168\n",
       "population              0\n",
       "households              0\n",
       "median_income           0\n",
       "ocean_proximity         0\n",
       "dtype: int64"
      ]
     },
     "execution_count": 9,
     "metadata": {},
     "output_type": "execute_result"
    }
   ],
   "source": [
    "x.isna().sum()"
   ]
  },
  {
   "cell_type": "code",
   "execution_count": 10,
   "metadata": {},
   "outputs": [],
   "source": [
    "from sklearn.impute import SimpleImputer"
   ]
  },
  {
   "cell_type": "code",
   "execution_count": 11,
   "metadata": {},
   "outputs": [
    {
     "data": {
      "text/html": [
       "<div>\n",
       "<style scoped>\n",
       "    .dataframe tbody tr th:only-of-type {\n",
       "        vertical-align: middle;\n",
       "    }\n",
       "\n",
       "    .dataframe tbody tr th {\n",
       "        vertical-align: top;\n",
       "    }\n",
       "\n",
       "    .dataframe thead th {\n",
       "        text-align: right;\n",
       "    }\n",
       "</style>\n",
       "<table border=\"1\" class=\"dataframe\">\n",
       "  <thead>\n",
       "    <tr style=\"text-align: right;\">\n",
       "      <th></th>\n",
       "      <th>longitude</th>\n",
       "      <th>latitude</th>\n",
       "      <th>housing_median_age</th>\n",
       "      <th>total_rooms</th>\n",
       "      <th>total_bedrooms</th>\n",
       "      <th>population</th>\n",
       "      <th>households</th>\n",
       "      <th>median_income</th>\n",
       "    </tr>\n",
       "  </thead>\n",
       "  <tbody>\n",
       "    <tr>\n",
       "      <th>0</th>\n",
       "      <td>-121.26</td>\n",
       "      <td>37.88</td>\n",
       "      <td>42.0</td>\n",
       "      <td>465.0</td>\n",
       "      <td>93.0</td>\n",
       "      <td>256.0</td>\n",
       "      <td>93.0</td>\n",
       "      <td>3.1719</td>\n",
       "    </tr>\n",
       "    <tr>\n",
       "      <th>1</th>\n",
       "      <td>-121.64</td>\n",
       "      <td>37.85</td>\n",
       "      <td>22.0</td>\n",
       "      <td>1999.0</td>\n",
       "      <td>415.0</td>\n",
       "      <td>967.0</td>\n",
       "      <td>320.0</td>\n",
       "      <td>4.4583</td>\n",
       "    </tr>\n",
       "    <tr>\n",
       "      <th>2</th>\n",
       "      <td>-118.15</td>\n",
       "      <td>33.95</td>\n",
       "      <td>35.0</td>\n",
       "      <td>2753.0</td>\n",
       "      <td>702.0</td>\n",
       "      <td>1592.0</td>\n",
       "      <td>614.0</td>\n",
       "      <td>2.7875</td>\n",
       "    </tr>\n",
       "    <tr>\n",
       "      <th>3</th>\n",
       "      <td>-118.24</td>\n",
       "      <td>34.07</td>\n",
       "      <td>27.0</td>\n",
       "      <td>223.0</td>\n",
       "      <td>80.0</td>\n",
       "      <td>249.0</td>\n",
       "      <td>82.0</td>\n",
       "      <td>1.6136</td>\n",
       "    </tr>\n",
       "    <tr>\n",
       "      <th>4</th>\n",
       "      <td>-121.82</td>\n",
       "      <td>38.02</td>\n",
       "      <td>46.0</td>\n",
       "      <td>176.0</td>\n",
       "      <td>43.0</td>\n",
       "      <td>101.0</td>\n",
       "      <td>40.0</td>\n",
       "      <td>2.2361</td>\n",
       "    </tr>\n",
       "    <tr>\n",
       "      <th>...</th>\n",
       "      <td>...</td>\n",
       "      <td>...</td>\n",
       "      <td>...</td>\n",
       "      <td>...</td>\n",
       "      <td>...</td>\n",
       "      <td>...</td>\n",
       "      <td>...</td>\n",
       "      <td>...</td>\n",
       "    </tr>\n",
       "    <tr>\n",
       "      <th>16507</th>\n",
       "      <td>-120.65</td>\n",
       "      <td>38.28</td>\n",
       "      <td>21.0</td>\n",
       "      <td>3095.0</td>\n",
       "      <td>681.0</td>\n",
       "      <td>1341.0</td>\n",
       "      <td>546.0</td>\n",
       "      <td>2.1382</td>\n",
       "    </tr>\n",
       "    <tr>\n",
       "      <th>16508</th>\n",
       "      <td>-121.45</td>\n",
       "      <td>38.53</td>\n",
       "      <td>34.0</td>\n",
       "      <td>1893.0</td>\n",
       "      <td>415.0</td>\n",
       "      <td>884.0</td>\n",
       "      <td>395.0</td>\n",
       "      <td>2.1679</td>\n",
       "    </tr>\n",
       "    <tr>\n",
       "      <th>16509</th>\n",
       "      <td>-118.27</td>\n",
       "      <td>34.17</td>\n",
       "      <td>48.0</td>\n",
       "      <td>1560.0</td>\n",
       "      <td>280.0</td>\n",
       "      <td>825.0</td>\n",
       "      <td>269.0</td>\n",
       "      <td>5.5118</td>\n",
       "    </tr>\n",
       "    <tr>\n",
       "      <th>16510</th>\n",
       "      <td>-121.33</td>\n",
       "      <td>37.98</td>\n",
       "      <td>36.0</td>\n",
       "      <td>3113.0</td>\n",
       "      <td>576.0</td>\n",
       "      <td>1746.0</td>\n",
       "      <td>544.0</td>\n",
       "      <td>3.4625</td>\n",
       "    </tr>\n",
       "    <tr>\n",
       "      <th>16511</th>\n",
       "      <td>-118.40</td>\n",
       "      <td>34.00</td>\n",
       "      <td>37.0</td>\n",
       "      <td>1534.0</td>\n",
       "      <td>258.0</td>\n",
       "      <td>751.0</td>\n",
       "      <td>259.0</td>\n",
       "      <td>5.4440</td>\n",
       "    </tr>\n",
       "  </tbody>\n",
       "</table>\n",
       "<p>16512 rows × 8 columns</p>\n",
       "</div>"
      ],
      "text/plain": [
       "       longitude  latitude  housing_median_age  total_rooms  total_bedrooms  \\\n",
       "0        -121.26     37.88                42.0        465.0            93.0   \n",
       "1        -121.64     37.85                22.0       1999.0           415.0   \n",
       "2        -118.15     33.95                35.0       2753.0           702.0   \n",
       "3        -118.24     34.07                27.0        223.0            80.0   \n",
       "4        -121.82     38.02                46.0        176.0            43.0   \n",
       "...          ...       ...                 ...          ...             ...   \n",
       "16507    -120.65     38.28                21.0       3095.0           681.0   \n",
       "16508    -121.45     38.53                34.0       1893.0           415.0   \n",
       "16509    -118.27     34.17                48.0       1560.0           280.0   \n",
       "16510    -121.33     37.98                36.0       3113.0           576.0   \n",
       "16511    -118.40     34.00                37.0       1534.0           258.0   \n",
       "\n",
       "       population  households  median_income  \n",
       "0           256.0        93.0         3.1719  \n",
       "1           967.0       320.0         4.4583  \n",
       "2          1592.0       614.0         2.7875  \n",
       "3           249.0        82.0         1.6136  \n",
       "4           101.0        40.0         2.2361  \n",
       "...           ...         ...            ...  \n",
       "16507      1341.0       546.0         2.1382  \n",
       "16508       884.0       395.0         2.1679  \n",
       "16509       825.0       269.0         5.5118  \n",
       "16510      1746.0       544.0         3.4625  \n",
       "16511       751.0       259.0         5.4440  \n",
       "\n",
       "[16512 rows x 8 columns]"
      ]
     },
     "execution_count": 11,
     "metadata": {},
     "output_type": "execute_result"
    }
   ],
   "source": [
    "numerical_columns=x.drop(columns=['ocean_proximity'],axis=1)\n",
    "numerical_columns"
   ]
  },
  {
   "cell_type": "code",
   "execution_count": 12,
   "metadata": {},
   "outputs": [],
   "source": [
    "simple_imputer=SimpleImputer(strategy=\"median\")"
   ]
  },
  {
   "cell_type": "code",
   "execution_count": 13,
   "metadata": {},
   "outputs": [
    {
     "data": {
      "text/plain": [
       "array([[-121.26  ,   37.88  ,   42.    , ...,  256.    ,   93.    ,\n",
       "           3.1719],\n",
       "       [-121.64  ,   37.85  ,   22.    , ...,  967.    ,  320.    ,\n",
       "           4.4583],\n",
       "       [-118.15  ,   33.95  ,   35.    , ..., 1592.    ,  614.    ,\n",
       "           2.7875],\n",
       "       ...,\n",
       "       [-118.27  ,   34.17  ,   48.    , ...,  825.    ,  269.    ,\n",
       "           5.5118],\n",
       "       [-121.33  ,   37.98  ,   36.    , ..., 1746.    ,  544.    ,\n",
       "           3.4625],\n",
       "       [-118.4   ,   34.    ,   37.    , ...,  751.    ,  259.    ,\n",
       "           5.444 ]])"
      ]
     },
     "execution_count": 13,
     "metadata": {},
     "output_type": "execute_result"
    }
   ],
   "source": [
    "simple_imputer.fit_transform(numerical_columns)"
   ]
  },
  {
   "cell_type": "code",
   "execution_count": 14,
   "metadata": {},
   "outputs": [],
   "source": [
    "df=simple_imputer.transform(numerical_columns)"
   ]
  },
  {
   "cell_type": "code",
   "execution_count": 15,
   "metadata": {},
   "outputs": [
    {
     "data": {
      "text/plain": [
       "array(['longitude', 'latitude', 'housing_median_age', 'total_rooms',\n",
       "       'total_bedrooms', 'population', 'households', 'median_income'],\n",
       "      dtype=object)"
      ]
     },
     "execution_count": 15,
     "metadata": {},
     "output_type": "execute_result"
    }
   ],
   "source": [
    "simple_imputer.feature_names_in_"
   ]
  },
  {
   "cell_type": "code",
   "execution_count": 16,
   "metadata": {},
   "outputs": [
    {
     "data": {
      "text/plain": [
       "array([-118.48  ,   34.25  ,   29.    , 2129.    ,  436.    , 1168.    ,\n",
       "        411.    ,    3.5341])"
      ]
     },
     "execution_count": 16,
     "metadata": {},
     "output_type": "execute_result"
    }
   ],
   "source": [
    "simple_imputer.statistics_"
   ]
  },
  {
   "cell_type": "code",
   "execution_count": 17,
   "metadata": {},
   "outputs": [
    {
     "data": {
      "text/plain": [
       "34.25"
      ]
     },
     "execution_count": 17,
     "metadata": {},
     "output_type": "execute_result"
    }
   ],
   "source": [
    "x.latitude.median()"
   ]
  },
  {
   "cell_type": "code",
   "execution_count": 18,
   "metadata": {},
   "outputs": [
    {
     "data": {
      "text/plain": [
       "0           INLAND\n",
       "1           INLAND\n",
       "2        <1H OCEAN\n",
       "3        <1H OCEAN\n",
       "4           INLAND\n",
       "           ...    \n",
       "16507       INLAND\n",
       "16508       INLAND\n",
       "16509    <1H OCEAN\n",
       "16510       INLAND\n",
       "16511    <1H OCEAN\n",
       "Name: ocean_proximity, Length: 16512, dtype: object"
      ]
     },
     "execution_count": 18,
     "metadata": {},
     "output_type": "execute_result"
    }
   ],
   "source": [
    "x.ocean_proximity"
   ]
  },
  {
   "cell_type": "code",
   "execution_count": 19,
   "metadata": {},
   "outputs": [
    {
     "data": {
      "text/plain": [
       "<1H OCEAN     7324\n",
       "INLAND        5213\n",
       "NEAR OCEAN    2126\n",
       "NEAR BAY      1844\n",
       "ISLAND           5\n",
       "Name: ocean_proximity, dtype: int64"
      ]
     },
     "execution_count": 19,
     "metadata": {},
     "output_type": "execute_result"
    }
   ],
   "source": [
    "x.ocean_proximity.value_counts()"
   ]
  },
  {
   "cell_type": "code",
   "execution_count": 20,
   "metadata": {},
   "outputs": [],
   "source": [
    "simple_imputer=SimpleImputer(strategy=\"most_frequent\")"
   ]
  },
  {
   "cell_type": "code",
   "execution_count": 21,
   "metadata": {},
   "outputs": [],
   "source": [
    "categorical=x[['ocean_proximity']]"
   ]
  },
  {
   "cell_type": "code",
   "execution_count": 22,
   "metadata": {},
   "outputs": [
    {
     "data": {
      "text/plain": [
       "array([['INLAND'],\n",
       "       ['INLAND'],\n",
       "       ['<1H OCEAN'],\n",
       "       ...,\n",
       "       ['<1H OCEAN'],\n",
       "       ['INLAND'],\n",
       "       ['<1H OCEAN']], dtype=object)"
      ]
     },
     "execution_count": 22,
     "metadata": {},
     "output_type": "execute_result"
    }
   ],
   "source": [
    "simple_imputer.fit_transform(categorical)"
   ]
  },
  {
   "cell_type": "code",
   "execution_count": 23,
   "metadata": {},
   "outputs": [
    {
     "data": {
      "text/plain": [
       "array(['<1H OCEAN'], dtype=object)"
      ]
     },
     "execution_count": 23,
     "metadata": {},
     "output_type": "execute_result"
    }
   ],
   "source": [
    "simple_imputer.statistics_"
   ]
  },
  {
   "cell_type": "code",
   "execution_count": 24,
   "metadata": {},
   "outputs": [
    {
     "data": {
      "text/plain": [
       "array(['ocean_proximity'], dtype=object)"
      ]
     },
     "execution_count": 24,
     "metadata": {},
     "output_type": "execute_result"
    }
   ],
   "source": [
    "simple_imputer.feature_names_in_"
   ]
  },
  {
   "cell_type": "code",
   "execution_count": 25,
   "metadata": {},
   "outputs": [],
   "source": [
    "class FeatureGenerator():\n",
    "    \n",
    "    def __init__(self,strategy=\"median\"):\n",
    "        self.strategy=strategy\n",
    "\n",
    "    def fit(self,x):\n",
    "        self.features_=x.columns\n",
    "        self.statistics_=[]\n",
    "        for column in x.columns:\n",
    "            self.statistics_.append(x[column].median())\n",
    "\n",
    "    def transform(self,x:pd.DataFrame):\n",
    "        for idx,column in enumerate(x.columns):\n",
    "            x[column].fillna(self.statistics_[idx])\n",
    "        return x            \n",
    "    def fit_transform(self,x):\n",
    "        self.fit(x)\n",
    "        self.transform(x)"
   ]
  },
  {
   "cell_type": "code",
   "execution_count": 26,
   "metadata": {},
   "outputs": [
    {
     "data": {
      "text/plain": [
       "<enumerate at 0x25ecc0b5090>"
      ]
     },
     "execution_count": 26,
     "metadata": {},
     "output_type": "execute_result"
    }
   ],
   "source": [
    "enumerate(x.columns)"
   ]
  },
  {
   "cell_type": "code",
   "execution_count": 27,
   "metadata": {},
   "outputs": [],
   "source": [
    "from sklearn.base import BaseEstimator,TransformerMixin"
   ]
  },
  {
   "cell_type": "code",
   "execution_count": 28,
   "metadata": {},
   "outputs": [],
   "source": [
    "from housing.exception import HousingException\n",
    "from housing.constant import *"
   ]
  },
  {
   "cell_type": "code",
   "execution_count": 29,
   "metadata": {},
   "outputs": [],
   "source": [
    "class FeatureGenerator(BaseEstimator,TransformerMixin):\n",
    "    def __init__(self,add_bedrooms_per_room=True,\n",
    "                    total_rooms_ix=3,\n",
    "                    population_ix=5,\n",
    "                    households_ix=5,\n",
    "                    total_bedrooms_ix=4,\n",
    "                    columns=None):\n",
    "        \"\"\"\n",
    "        Feature Generator Initialization\n",
    "        add_bedrooms_per_room: bool\n",
    "        total_rooms_ix: int index number of total rooms column\n",
    "        population_ix: int index number of population column\n",
    "        households_ix: int index number of households column\n",
    "        total_bedrooms_ix: int index number of bedrooms column\n",
    "                \n",
    "        \"\"\"\n",
    "        try:\n",
    "            self.columns=columns\n",
    "            if self.columns is not None:\n",
    "                total_rooms_ix=self.columns.index(COLUMN_TOTAL_ROOMS)\n",
    "                population_ix=self.columns.index(COLUMN_POPULATION)\n",
    "                households_ix=self.columns.index(COLUMN_HOUSEHOLDS)\n",
    "                total_bedrooms_ix=self.columns.index(COLUMN_TOTAL_BEDROOM)\n",
    "\n",
    "            self.add_bedrooms_per_room=add_bedrooms_per_room\n",
    "            self.total_rooms_ix=total_rooms_ix\n",
    "            self.population_ix=population_ix\n",
    "            self.households_ix=households_ix\n",
    "            self.total_bedrooms_ix=total_bedrooms_ix\n",
    "\n",
    "        except Exception as e:\n",
    "            raise HousingException(e,sys) from e\n",
    "    def fit(self,x,y=None):\n",
    "        return self\n",
    "\n",
    "    def transform(self,x,y=None):\n",
    "        try:\n",
    "            room_per_household=x[:,self.total_rooms_ix]/x[:,self.households_ix]\n",
    "            population_per_household=x[:,self.population_ix]/x[:,self.households_ix]\n",
    "\n",
    "            if self.add_bedrooms_per_room:\n",
    "                bedrooms_per_room=x[:,self.total_bedrooms_ix]/x[:,self.total_rooms_ix]\n",
    "                generated_feature=np.c_[x,room_per_household,population_per_household,bedrooms_per_room]\n",
    "            else:\n",
    "                generated_feature=np.c_[x,room_per_household,population_per_household]\n",
    "            \n",
    "            return generated_feature\n",
    "        except Exception as e:\n",
    "            raise HousingException(e,sys) from e\n",
    "    "
   ]
  },
  {
   "cell_type": "code",
   "execution_count": 30,
   "metadata": {},
   "outputs": [],
   "source": [
    "from sklearn.pipeline import Pipeline\n",
    "from sklearn.preprocessing import StandardScaler\n",
    "from sklearn.preprocessing import OneHotEncoder"
   ]
  },
  {
   "cell_type": "code",
   "execution_count": 31,
   "metadata": {},
   "outputs": [],
   "source": [
    "num_pipeline=Pipeline(steps=[\n",
    "    ('imputer',SimpleImputer(strategy=\"median\")),\n",
    "    ('feature_generator',FeatureGenerator()),\n",
    "    ('scaling',StandardScaler()),\n",
    "])"
   ]
  },
  {
   "cell_type": "code",
   "execution_count": 32,
   "metadata": {},
   "outputs": [],
   "source": [
    "cat_pipeline=Pipeline(steps=[\n",
    "    ('imputer',SimpleImputer(strategy=\"most_frequent\")),\n",
    "    ('OneHotEncoder',OneHotEncoder()),\n",
    "    ('scaling',StandardScaler(with_mean=False))\n",
    "])"
   ]
  },
  {
   "cell_type": "code",
   "execution_count": 33,
   "metadata": {},
   "outputs": [],
   "source": [
    "from sklearn.compose import ColumnTransformer"
   ]
  },
  {
   "cell_type": "code",
   "execution_count": 34,
   "metadata": {},
   "outputs": [],
   "source": [
    "numerical_columns_names=['longitude', 'latitude', 'housing_median_age', 'total_rooms',\n",
    "       'total_bedrooms', 'population', 'households', 'median_income']"
   ]
  },
  {
   "cell_type": "code",
   "execution_count": 35,
   "metadata": {},
   "outputs": [],
   "source": [
    "categorical_columns_names=['ocean_proximity']"
   ]
  },
  {
   "cell_type": "code",
   "execution_count": 36,
   "metadata": {},
   "outputs": [],
   "source": [
    "preprocessing=ColumnTransformer([\n",
    "    ('num_pipeline',num_pipeline,numerical_columns_names),\n",
    "    ('cat_pipeline',cat_pipeline,categorical_columns_names)\n",
    "])"
   ]
  },
  {
   "cell_type": "code",
   "execution_count": 37,
   "metadata": {},
   "outputs": [],
   "source": [
    "train_df=r\"E:\\My new World\\Ineuron\\ML Projects\\ML_Housing_project_2\\housing\\artifact\\data_ingestion\\2023-01-11-08-05-02\\ingested_data\\train\\housing.csv\"\n",
    "train_df=pd.read_csv(train_df)\n",
    "train_df_t=train_df"
   ]
  },
  {
   "cell_type": "code",
   "execution_count": 38,
   "metadata": {},
   "outputs": [
    {
     "data": {
      "text/plain": [
       "array([[-0.84790302,  1.0606902 ,  1.06500612, ...,  0.        ,\n",
       "         0.        ,  0.        ],\n",
       "       [-1.03770326,  1.04660645, -0.52686326, ...,  0.        ,\n",
       "         0.        ,  0.        ],\n",
       "       [ 0.7054621 , -0.78428172,  0.50785184, ...,  0.        ,\n",
       "         0.        ,  0.        ],\n",
       "       ...,\n",
       "       [ 0.64552518, -0.68100085,  1.54256693, ...,  0.        ,\n",
       "         0.        ,  0.        ],\n",
       "       [-0.88286623,  1.10763605,  0.5874453 , ...,  0.        ,\n",
       "         0.        ,  0.        ],\n",
       "       [ 0.58059352, -0.7608088 ,  0.66703877, ...,  0.        ,\n",
       "         0.        ,  0.        ]])"
      ]
     },
     "execution_count": 38,
     "metadata": {},
     "output_type": "execute_result"
    }
   ],
   "source": [
    "preprocessing.fit_transform(train_df)"
   ]
  },
  {
   "cell_type": "code",
   "execution_count": 39,
   "metadata": {},
   "outputs": [],
   "source": [
    "import dill"
   ]
  },
  {
   "cell_type": "code",
   "execution_count": 40,
   "metadata": {},
   "outputs": [],
   "source": [
    "with open('preprocessing.pkl','wb') as prep_file:\n",
    "    dill.dump(preprocessing,prep_file)"
   ]
  },
  {
   "cell_type": "code",
   "execution_count": 41,
   "metadata": {},
   "outputs": [],
   "source": [
    "with open('preprocessing.pkl','rb') as preprocessed:\n",
    "   preprocessed_loaded_obj=dill.load(preprocessed)"
   ]
  },
  {
   "cell_type": "code",
   "execution_count": 42,
   "metadata": {},
   "outputs": [
    {
     "data": {
      "text/html": [
       "<div>\n",
       "<style scoped>\n",
       "    .dataframe tbody tr th:only-of-type {\n",
       "        vertical-align: middle;\n",
       "    }\n",
       "\n",
       "    .dataframe tbody tr th {\n",
       "        vertical-align: top;\n",
       "    }\n",
       "\n",
       "    .dataframe thead th {\n",
       "        text-align: right;\n",
       "    }\n",
       "</style>\n",
       "<table border=\"1\" class=\"dataframe\">\n",
       "  <thead>\n",
       "    <tr style=\"text-align: right;\">\n",
       "      <th></th>\n",
       "      <th>longitude</th>\n",
       "      <th>latitude</th>\n",
       "      <th>housing_median_age</th>\n",
       "      <th>total_rooms</th>\n",
       "      <th>total_bedrooms</th>\n",
       "      <th>population</th>\n",
       "      <th>households</th>\n",
       "      <th>median_income</th>\n",
       "      <th>median_house_value</th>\n",
       "      <th>ocean_proximity</th>\n",
       "    </tr>\n",
       "  </thead>\n",
       "  <tbody>\n",
       "    <tr>\n",
       "      <th>0</th>\n",
       "      <td>-118.42</td>\n",
       "      <td>34.29</td>\n",
       "      <td>34.0</td>\n",
       "      <td>1489.0</td>\n",
       "      <td>326.0</td>\n",
       "      <td>1389.0</td>\n",
       "      <td>313.0</td>\n",
       "      <td>3.4821</td>\n",
       "      <td>160300.0</td>\n",
       "      <td>&lt;1H OCEAN</td>\n",
       "    </tr>\n",
       "    <tr>\n",
       "      <th>1</th>\n",
       "      <td>-118.30</td>\n",
       "      <td>34.04</td>\n",
       "      <td>37.0</td>\n",
       "      <td>1470.0</td>\n",
       "      <td>399.0</td>\n",
       "      <td>1579.0</td>\n",
       "      <td>390.0</td>\n",
       "      <td>2.0060</td>\n",
       "      <td>150000.0</td>\n",
       "      <td>&lt;1H OCEAN</td>\n",
       "    </tr>\n",
       "    <tr>\n",
       "      <th>2</th>\n",
       "      <td>-117.87</td>\n",
       "      <td>33.76</td>\n",
       "      <td>37.0</td>\n",
       "      <td>4943.0</td>\n",
       "      <td>851.0</td>\n",
       "      <td>2164.0</td>\n",
       "      <td>788.0</td>\n",
       "      <td>4.1071</td>\n",
       "      <td>311300.0</td>\n",
       "      <td>&lt;1H OCEAN</td>\n",
       "    </tr>\n",
       "    <tr>\n",
       "      <th>3</th>\n",
       "      <td>-118.05</td>\n",
       "      <td>33.94</td>\n",
       "      <td>34.0</td>\n",
       "      <td>495.0</td>\n",
       "      <td>120.0</td>\n",
       "      <td>527.0</td>\n",
       "      <td>130.0</td>\n",
       "      <td>1.9453</td>\n",
       "      <td>149000.0</td>\n",
       "      <td>&lt;1H OCEAN</td>\n",
       "    </tr>\n",
       "    <tr>\n",
       "      <th>4</th>\n",
       "      <td>-117.18</td>\n",
       "      <td>34.07</td>\n",
       "      <td>7.0</td>\n",
       "      <td>1347.0</td>\n",
       "      <td>301.0</td>\n",
       "      <td>799.0</td>\n",
       "      <td>276.0</td>\n",
       "      <td>2.9485</td>\n",
       "      <td>112500.0</td>\n",
       "      <td>INLAND</td>\n",
       "    </tr>\n",
       "    <tr>\n",
       "      <th>...</th>\n",
       "      <td>...</td>\n",
       "      <td>...</td>\n",
       "      <td>...</td>\n",
       "      <td>...</td>\n",
       "      <td>...</td>\n",
       "      <td>...</td>\n",
       "      <td>...</td>\n",
       "      <td>...</td>\n",
       "      <td>...</td>\n",
       "      <td>...</td>\n",
       "    </tr>\n",
       "    <tr>\n",
       "      <th>4123</th>\n",
       "      <td>-118.29</td>\n",
       "      <td>34.25</td>\n",
       "      <td>19.0</td>\n",
       "      <td>1988.0</td>\n",
       "      <td>594.0</td>\n",
       "      <td>1399.0</td>\n",
       "      <td>527.0</td>\n",
       "      <td>2.4727</td>\n",
       "      <td>175000.0</td>\n",
       "      <td>&lt;1H OCEAN</td>\n",
       "    </tr>\n",
       "    <tr>\n",
       "      <th>4124</th>\n",
       "      <td>-119.29</td>\n",
       "      <td>36.54</td>\n",
       "      <td>18.0</td>\n",
       "      <td>2581.0</td>\n",
       "      <td>628.0</td>\n",
       "      <td>2732.0</td>\n",
       "      <td>592.0</td>\n",
       "      <td>1.8429</td>\n",
       "      <td>58300.0</td>\n",
       "      <td>INLAND</td>\n",
       "    </tr>\n",
       "    <tr>\n",
       "      <th>4125</th>\n",
       "      <td>-121.75</td>\n",
       "      <td>38.55</td>\n",
       "      <td>26.0</td>\n",
       "      <td>4802.0</td>\n",
       "      <td>950.0</td>\n",
       "      <td>2199.0</td>\n",
       "      <td>939.0</td>\n",
       "      <td>3.7452</td>\n",
       "      <td>227700.0</td>\n",
       "      <td>INLAND</td>\n",
       "    </tr>\n",
       "    <tr>\n",
       "      <th>4126</th>\n",
       "      <td>-122.48</td>\n",
       "      <td>38.90</td>\n",
       "      <td>10.0</td>\n",
       "      <td>304.0</td>\n",
       "      <td>63.0</td>\n",
       "      <td>161.0</td>\n",
       "      <td>61.0</td>\n",
       "      <td>2.1964</td>\n",
       "      <td>112500.0</td>\n",
       "      <td>INLAND</td>\n",
       "    </tr>\n",
       "    <tr>\n",
       "      <th>4127</th>\n",
       "      <td>-117.04</td>\n",
       "      <td>32.66</td>\n",
       "      <td>22.0</td>\n",
       "      <td>3362.0</td>\n",
       "      <td>630.0</td>\n",
       "      <td>1471.0</td>\n",
       "      <td>612.0</td>\n",
       "      <td>4.1442</td>\n",
       "      <td>303900.0</td>\n",
       "      <td>NEAR OCEAN</td>\n",
       "    </tr>\n",
       "  </tbody>\n",
       "</table>\n",
       "<p>4128 rows × 10 columns</p>\n",
       "</div>"
      ],
      "text/plain": [
       "      longitude  latitude  housing_median_age  total_rooms  total_bedrooms  \\\n",
       "0       -118.42     34.29                34.0       1489.0           326.0   \n",
       "1       -118.30     34.04                37.0       1470.0           399.0   \n",
       "2       -117.87     33.76                37.0       4943.0           851.0   \n",
       "3       -118.05     33.94                34.0        495.0           120.0   \n",
       "4       -117.18     34.07                 7.0       1347.0           301.0   \n",
       "...         ...       ...                 ...          ...             ...   \n",
       "4123    -118.29     34.25                19.0       1988.0           594.0   \n",
       "4124    -119.29     36.54                18.0       2581.0           628.0   \n",
       "4125    -121.75     38.55                26.0       4802.0           950.0   \n",
       "4126    -122.48     38.90                10.0        304.0            63.0   \n",
       "4127    -117.04     32.66                22.0       3362.0           630.0   \n",
       "\n",
       "      population  households  median_income  median_house_value  \\\n",
       "0         1389.0       313.0         3.4821            160300.0   \n",
       "1         1579.0       390.0         2.0060            150000.0   \n",
       "2         2164.0       788.0         4.1071            311300.0   \n",
       "3          527.0       130.0         1.9453            149000.0   \n",
       "4          799.0       276.0         2.9485            112500.0   \n",
       "...          ...         ...            ...                 ...   \n",
       "4123      1399.0       527.0         2.4727            175000.0   \n",
       "4124      2732.0       592.0         1.8429             58300.0   \n",
       "4125      2199.0       939.0         3.7452            227700.0   \n",
       "4126       161.0        61.0         2.1964            112500.0   \n",
       "4127      1471.0       612.0         4.1442            303900.0   \n",
       "\n",
       "     ocean_proximity  \n",
       "0          <1H OCEAN  \n",
       "1          <1H OCEAN  \n",
       "2          <1H OCEAN  \n",
       "3          <1H OCEAN  \n",
       "4             INLAND  \n",
       "...              ...  \n",
       "4123       <1H OCEAN  \n",
       "4124          INLAND  \n",
       "4125          INLAND  \n",
       "4126          INLAND  \n",
       "4127      NEAR OCEAN  \n",
       "\n",
       "[4128 rows x 10 columns]"
      ]
     },
     "execution_count": 42,
     "metadata": {},
     "output_type": "execute_result"
    }
   ],
   "source": [
    "test=r\"E:\\My new World\\Ineuron\\ML Projects\\ML_Housing_project_2\\housing\\artifact\\data_ingestion\\2023-01-11-08-05-02\\ingested_data\\test\\housing.csv\"\n",
    "test_df=pd.read_csv(test)\n",
    "test_df.shape\n",
    "test_df\n"
   ]
  },
  {
   "cell_type": "code",
   "execution_count": 43,
   "metadata": {},
   "outputs": [
    {
     "data": {
      "text/html": [
       "<div>\n",
       "<style scoped>\n",
       "    .dataframe tbody tr th:only-of-type {\n",
       "        vertical-align: middle;\n",
       "    }\n",
       "\n",
       "    .dataframe tbody tr th {\n",
       "        vertical-align: top;\n",
       "    }\n",
       "\n",
       "    .dataframe thead th {\n",
       "        text-align: right;\n",
       "    }\n",
       "</style>\n",
       "<table border=\"1\" class=\"dataframe\">\n",
       "  <thead>\n",
       "    <tr style=\"text-align: right;\">\n",
       "      <th></th>\n",
       "      <th>longitude</th>\n",
       "      <th>latitude</th>\n",
       "      <th>housing_median_age</th>\n",
       "      <th>total_rooms</th>\n",
       "      <th>total_bedrooms</th>\n",
       "      <th>population</th>\n",
       "      <th>households</th>\n",
       "      <th>median_income</th>\n",
       "      <th>median_house_value</th>\n",
       "      <th>ocean_proximity</th>\n",
       "    </tr>\n",
       "  </thead>\n",
       "  <tbody>\n",
       "    <tr>\n",
       "      <th>0</th>\n",
       "      <td>-121.26</td>\n",
       "      <td>37.88</td>\n",
       "      <td>42.0</td>\n",
       "      <td>465.0</td>\n",
       "      <td>93.0</td>\n",
       "      <td>256.0</td>\n",
       "      <td>93.0</td>\n",
       "      <td>3.1719</td>\n",
       "      <td>158300.0</td>\n",
       "      <td>INLAND</td>\n",
       "    </tr>\n",
       "    <tr>\n",
       "      <th>1</th>\n",
       "      <td>-121.64</td>\n",
       "      <td>37.85</td>\n",
       "      <td>22.0</td>\n",
       "      <td>1999.0</td>\n",
       "      <td>415.0</td>\n",
       "      <td>967.0</td>\n",
       "      <td>320.0</td>\n",
       "      <td>4.4583</td>\n",
       "      <td>253900.0</td>\n",
       "      <td>INLAND</td>\n",
       "    </tr>\n",
       "    <tr>\n",
       "      <th>2</th>\n",
       "      <td>-118.15</td>\n",
       "      <td>33.95</td>\n",
       "      <td>35.0</td>\n",
       "      <td>2753.0</td>\n",
       "      <td>702.0</td>\n",
       "      <td>1592.0</td>\n",
       "      <td>614.0</td>\n",
       "      <td>2.7875</td>\n",
       "      <td>209000.0</td>\n",
       "      <td>&lt;1H OCEAN</td>\n",
       "    </tr>\n",
       "    <tr>\n",
       "      <th>3</th>\n",
       "      <td>-118.24</td>\n",
       "      <td>34.07</td>\n",
       "      <td>27.0</td>\n",
       "      <td>223.0</td>\n",
       "      <td>80.0</td>\n",
       "      <td>249.0</td>\n",
       "      <td>82.0</td>\n",
       "      <td>1.6136</td>\n",
       "      <td>137500.0</td>\n",
       "      <td>&lt;1H OCEAN</td>\n",
       "    </tr>\n",
       "    <tr>\n",
       "      <th>4</th>\n",
       "      <td>-121.82</td>\n",
       "      <td>38.02</td>\n",
       "      <td>46.0</td>\n",
       "      <td>176.0</td>\n",
       "      <td>43.0</td>\n",
       "      <td>101.0</td>\n",
       "      <td>40.0</td>\n",
       "      <td>2.2361</td>\n",
       "      <td>93800.0</td>\n",
       "      <td>INLAND</td>\n",
       "    </tr>\n",
       "    <tr>\n",
       "      <th>...</th>\n",
       "      <td>...</td>\n",
       "      <td>...</td>\n",
       "      <td>...</td>\n",
       "      <td>...</td>\n",
       "      <td>...</td>\n",
       "      <td>...</td>\n",
       "      <td>...</td>\n",
       "      <td>...</td>\n",
       "      <td>...</td>\n",
       "      <td>...</td>\n",
       "    </tr>\n",
       "    <tr>\n",
       "      <th>16507</th>\n",
       "      <td>-120.65</td>\n",
       "      <td>38.28</td>\n",
       "      <td>21.0</td>\n",
       "      <td>3095.0</td>\n",
       "      <td>681.0</td>\n",
       "      <td>1341.0</td>\n",
       "      <td>546.0</td>\n",
       "      <td>2.1382</td>\n",
       "      <td>104000.0</td>\n",
       "      <td>INLAND</td>\n",
       "    </tr>\n",
       "    <tr>\n",
       "      <th>16508</th>\n",
       "      <td>-121.45</td>\n",
       "      <td>38.53</td>\n",
       "      <td>34.0</td>\n",
       "      <td>1893.0</td>\n",
       "      <td>415.0</td>\n",
       "      <td>884.0</td>\n",
       "      <td>395.0</td>\n",
       "      <td>2.1679</td>\n",
       "      <td>75400.0</td>\n",
       "      <td>INLAND</td>\n",
       "    </tr>\n",
       "    <tr>\n",
       "      <th>16509</th>\n",
       "      <td>-118.27</td>\n",
       "      <td>34.17</td>\n",
       "      <td>48.0</td>\n",
       "      <td>1560.0</td>\n",
       "      <td>280.0</td>\n",
       "      <td>825.0</td>\n",
       "      <td>269.0</td>\n",
       "      <td>5.5118</td>\n",
       "      <td>354700.0</td>\n",
       "      <td>&lt;1H OCEAN</td>\n",
       "    </tr>\n",
       "    <tr>\n",
       "      <th>16510</th>\n",
       "      <td>-121.33</td>\n",
       "      <td>37.98</td>\n",
       "      <td>36.0</td>\n",
       "      <td>3113.0</td>\n",
       "      <td>576.0</td>\n",
       "      <td>1746.0</td>\n",
       "      <td>544.0</td>\n",
       "      <td>3.4625</td>\n",
       "      <td>84600.0</td>\n",
       "      <td>INLAND</td>\n",
       "    </tr>\n",
       "    <tr>\n",
       "      <th>16511</th>\n",
       "      <td>-118.40</td>\n",
       "      <td>34.00</td>\n",
       "      <td>37.0</td>\n",
       "      <td>1534.0</td>\n",
       "      <td>258.0</td>\n",
       "      <td>751.0</td>\n",
       "      <td>259.0</td>\n",
       "      <td>5.4440</td>\n",
       "      <td>336000.0</td>\n",
       "      <td>&lt;1H OCEAN</td>\n",
       "    </tr>\n",
       "  </tbody>\n",
       "</table>\n",
       "<p>16512 rows × 10 columns</p>\n",
       "</div>"
      ],
      "text/plain": [
       "       longitude  latitude  housing_median_age  total_rooms  total_bedrooms  \\\n",
       "0        -121.26     37.88                42.0        465.0            93.0   \n",
       "1        -121.64     37.85                22.0       1999.0           415.0   \n",
       "2        -118.15     33.95                35.0       2753.0           702.0   \n",
       "3        -118.24     34.07                27.0        223.0            80.0   \n",
       "4        -121.82     38.02                46.0        176.0            43.0   \n",
       "...          ...       ...                 ...          ...             ...   \n",
       "16507    -120.65     38.28                21.0       3095.0           681.0   \n",
       "16508    -121.45     38.53                34.0       1893.0           415.0   \n",
       "16509    -118.27     34.17                48.0       1560.0           280.0   \n",
       "16510    -121.33     37.98                36.0       3113.0           576.0   \n",
       "16511    -118.40     34.00                37.0       1534.0           258.0   \n",
       "\n",
       "       population  households  median_income  median_house_value  \\\n",
       "0           256.0        93.0         3.1719            158300.0   \n",
       "1           967.0       320.0         4.4583            253900.0   \n",
       "2          1592.0       614.0         2.7875            209000.0   \n",
       "3           249.0        82.0         1.6136            137500.0   \n",
       "4           101.0        40.0         2.2361             93800.0   \n",
       "...           ...         ...            ...                 ...   \n",
       "16507      1341.0       546.0         2.1382            104000.0   \n",
       "16508       884.0       395.0         2.1679             75400.0   \n",
       "16509       825.0       269.0         5.5118            354700.0   \n",
       "16510      1746.0       544.0         3.4625             84600.0   \n",
       "16511       751.0       259.0         5.4440            336000.0   \n",
       "\n",
       "      ocean_proximity  \n",
       "0              INLAND  \n",
       "1              INLAND  \n",
       "2           <1H OCEAN  \n",
       "3           <1H OCEAN  \n",
       "4              INLAND  \n",
       "...               ...  \n",
       "16507          INLAND  \n",
       "16508          INLAND  \n",
       "16509       <1H OCEAN  \n",
       "16510          INLAND  \n",
       "16511       <1H OCEAN  \n",
       "\n",
       "[16512 rows x 10 columns]"
      ]
     },
     "execution_count": 43,
     "metadata": {},
     "output_type": "execute_result"
    }
   ],
   "source": [
    "train_df"
   ]
  },
  {
   "cell_type": "code",
   "execution_count": 44,
   "metadata": {},
   "outputs": [
    {
     "data": {
      "text/plain": [
       "array([[-0.84790302,  1.0606902 ,  1.06500612, ...,  0.        ,\n",
       "         0.        ,  0.        ],\n",
       "       [-1.03770326,  1.04660645, -0.52686326, ...,  0.        ,\n",
       "         0.        ,  0.        ],\n",
       "       [ 0.7054621 , -0.78428172,  0.50785184, ...,  0.        ,\n",
       "         0.        ,  0.        ],\n",
       "       ...,\n",
       "       [ 0.64552518, -0.68100085,  1.54256693, ...,  0.        ,\n",
       "         0.        ,  0.        ],\n",
       "       [-0.88286623,  1.10763605,  0.5874453 , ...,  0.        ,\n",
       "         0.        ,  0.        ],\n",
       "       [ 0.58059352, -0.7608088 ,  0.66703877, ...,  0.        ,\n",
       "         0.        ,  0.        ]])"
      ]
     },
     "execution_count": 44,
     "metadata": {},
     "output_type": "execute_result"
    }
   ],
   "source": [
    "train_df=preprocessed_loaded_obj.transform(train_df)\n",
    "train_df"
   ]
  },
  {
   "cell_type": "code",
   "execution_count": 45,
   "metadata": {},
   "outputs": [
    {
     "data": {
      "text/plain": [
       "array([[-0.84790302,  1.0606902 ,  1.06500612, ...,  0.        ,\n",
       "         0.        ,  0.        ],\n",
       "       [-1.03770326,  1.04660645, -0.52686326, ...,  0.        ,\n",
       "         0.        ,  0.        ],\n",
       "       [ 0.7054621 , -0.78428172,  0.50785184, ...,  0.        ,\n",
       "         0.        ,  0.        ],\n",
       "       ...,\n",
       "       [ 0.64552518, -0.68100085,  1.54256693, ...,  0.        ,\n",
       "         0.        ,  0.        ],\n",
       "       [-0.88286623,  1.10763605,  0.5874453 , ...,  0.        ,\n",
       "         0.        ,  0.        ],\n",
       "       [ 0.58059352, -0.7608088 ,  0.66703877, ...,  0.        ,\n",
       "         0.        ,  0.        ]])"
      ]
     },
     "execution_count": 45,
     "metadata": {},
     "output_type": "execute_result"
    }
   ],
   "source": [
    "x=train_df\n",
    "y=np.array(train_df_t.median_house_value)\n",
    "x"
   ]
  },
  {
   "cell_type": "code",
   "execution_count": 46,
   "metadata": {},
   "outputs": [],
   "source": [
    "from sklearn.linear_model import LinearRegression"
   ]
  },
  {
   "cell_type": "code",
   "execution_count": 47,
   "metadata": {},
   "outputs": [],
   "source": [
    "lr=LinearRegression()"
   ]
  },
  {
   "cell_type": "code",
   "execution_count": 48,
   "metadata": {},
   "outputs": [
    {
     "data": {
      "text/plain": [
       "LinearRegression()"
      ]
     },
     "execution_count": 48,
     "metadata": {},
     "output_type": "execute_result"
    }
   ],
   "source": [
    "lr.fit(x,y)"
   ]
  },
  {
   "cell_type": "code",
   "execution_count": 49,
   "metadata": {},
   "outputs": [
    {
     "data": {
      "text/plain": [
       "array([-5.82986373e+04, -5.95150476e+04,  1.37253104e+04, -5.41650950e+03,\n",
       "        3.52927784e+03, -3.78569129e+04,  4.52786812e+04,  7.36964930e+04,\n",
       "        1.19319863e+04, -3.92620338e+07,  8.74349737e+03,  5.59267057e+13,\n",
       "        5.23236997e+13,  1.95863565e+12,  3.54568775e+13,  3.77038966e+13])"
      ]
     },
     "execution_count": 49,
     "metadata": {},
     "output_type": "execute_result"
    }
   ],
   "source": [
    "lr.coef_"
   ]
  },
  {
   "cell_type": "code",
   "execution_count": 50,
   "metadata": {},
   "outputs": [
    {
     "data": {
      "text/plain": [
       "-112573004340103.36"
      ]
     },
     "execution_count": 50,
     "metadata": {},
     "output_type": "execute_result"
    }
   ],
   "source": [
    "lr.intercept_"
   ]
  },
  {
   "cell_type": "code",
   "execution_count": 51,
   "metadata": {},
   "outputs": [],
   "source": [
    "y_hat=lr.predict(x)"
   ]
  },
  {
   "cell_type": "code",
   "execution_count": 52,
   "metadata": {},
   "outputs": [],
   "source": [
    "import matplotlib.pyplot as plt"
   ]
  },
  {
   "cell_type": "code",
   "execution_count": 53,
   "metadata": {},
   "outputs": [
    {
     "data": {
      "text/plain": [
       "[<matplotlib.lines.Line2D at 0x25ecf7317f0>]"
      ]
     },
     "execution_count": 53,
     "metadata": {},
     "output_type": "execute_result"
    },
    {
     "data": {
      "image/png": "[encoded data removed]",
      "text/plain": [
       "<Figure size 640x480 with 1 Axes>"
      ]
     },
     "metadata": {},
     "output_type": "display_data"
    }
   ],
   "source": [
    "plt.plot(y,y_hat,'o')"
   ]
  },
  {
   "cell_type": "code",
   "execution_count": 54,
   "metadata": {},
   "outputs": [],
   "source": [
    "from sklearn.metrics import r2_score"
   ]
  },
  {
   "cell_type": "code",
   "execution_count": 55,
   "metadata": {},
   "outputs": [
    {
     "data": {
      "text/plain": [
       "0.6546923674403153"
      ]
     },
     "execution_count": 55,
     "metadata": {},
     "output_type": "execute_result"
    }
   ],
   "source": [
    "r2_score(y,y_hat)"
   ]
  },
  {
   "cell_type": "code",
   "execution_count": null,
   "metadata": {},
   "outputs": [],
   "source": []
  }
 ],
 "metadata": {
  "kernelspec": {
   "display_name": "Python 3",
   "language": "python",
   "name": "python3"
  },
  "language_info": {
   "codemirror_mode": {
    "name": "ipython",
    "version": 3
   },
   "file_extension": ".py",
   "mimetype": "text/x-python",
   "name": "python",
   "nbconvert_exporter": "python",
   "pygments_lexer": "ipython3",
   "version": "3.7.0 (default, Jun 28 2018, 08:04:48) [MSC v.1912 64 bit (AMD64)]"
  },
  "orig_nbformat": 4,
  "vscode": {
   "interpreter": {
    "hash": "27576d84cb4ef24a03b0043db84d7d15e5550773065a375c2edc17d786c60e7d"
   }
  }
 },
 "nbformat": 4,
 "nbformat_minor": 2
}
